{
  "nbformat": 4,
  "nbformat_minor": 0,
  "metadata": {
    "colab": {
      "name": "FashionMNISTGen.ipynb",
      "provenance": [],
      "collapsed_sections": [],
      "toc_visible": true,
      "include_colab_link": true
    },
    "kernelspec": {
      "name": "python3",
      "display_name": "Python 3"
    }
  },
  "cells": [
    {
      "cell_type": "markdown",
      "metadata": {
        "id": "view-in-github",
        "colab_type": "text"
      },
      "source": [
        "<a href=\"https://colab.research.google.com/github/a-parida12/Capsules/blob/master/FashionMNISTGen.ipynb\" target=\"_parent\"><img src=\"https://colab.research.google.com/assets/colab-badge.svg\" alt=\"Open In Colab\"/></a>"
      ]
    },
    {
      "cell_type": "code",
      "metadata": {
        "id": "Z9Jv7Sd_vfhd",
        "colab_type": "code",
        "colab": {}
      },
      "source": [
        "import gzip\n",
        "import h5py\n",
        "import pickle\n",
        "import PIL\n",
        "import os\n",
        "import numpy as np\n",
        "\n",
        "try:\n",
        "    from tqdm import trange\n",
        "except ImportError:\n",
        "    trange = range\n",
        "    \n",
        "from matplotlib import pyplot as plt\n",
        "\n",
        "%matplotlib inline\n",
        "plt.rcParams['image.interpolation'] = None\n",
        "plt.rcParams['image.cmap'] = 'gray'"
      ],
      "execution_count": 0,
      "outputs": []
    },
    {
      "cell_type": "code",
      "metadata": {
        "id": "m92y1lEO7FPX",
        "colab_type": "code",
        "colab": {}
      },
      "source": [
        "import torch\n",
        "import torchvision\n",
        "import torchvision.transforms as transforms"
      ],
      "execution_count": 0,
      "outputs": []
    },
    {
      "cell_type": "code",
      "metadata": {
        "id": "APhK9Q5J7uFg",
        "colab_type": "code",
        "colab": {}
      },
      "source": [
        "train_set = torchvision.datasets.FashionMNIST('./sample_data/',train=True, transform=transforms.ToTensor(), download=True)"
      ],
      "execution_count": 0,
      "outputs": []
    },
    {
      "cell_type": "code",
      "metadata": {
        "id": "DTY-pOir8VfN",
        "colab_type": "code",
        "outputId": "bd590f34-b322-4a0a-887b-371a489b51b5",
        "colab": {
          "base_uri": "https://localhost:8080/",
          "height": 282
        }
      },
      "source": [
        "plt.imshow(train_set[0][0][0])"
      ],
      "execution_count": 0,
      "outputs": [
        {
          "output_type": "execute_result",
          "data": {
            "text/plain": [
              "<matplotlib.image.AxesImage at 0x7f36eeb9bb70>"
            ]
          },
          "metadata": {
            "tags": []
          },
          "execution_count": 25
        },
        {
          "output_type": "display_data",
          "data": {
            "image/png": "[encoded data removed]",
            "text/plain": [
              "<Figure size 432x288 with 1 Axes>"
            ]
          },
          "metadata": {
            "tags": []
          }
        }
      ]
    },
    {
      "cell_type": "code",
      "metadata": {
        "id": "0qz9oUy-8zUm",
        "colab_type": "code",
        "colab": {}
      },
      "source": [
        "def img_to_point_cloud(input_image, voxel):\n",
        "\n",
        "    non_zero_coord = np.transpose(np.nonzero(input_image))\n",
        "    \n",
        "    # dict for fast looking of neighboor ocupancy\n",
        "    non_zero_dict = {}\n",
        "    for i in range(input_image.shape[0]):\n",
        "        for j in range(input_image.shape[1]):\n",
        "            non_zero_dict[str([i,j])] = any(np.all([i,j] == non_zero_coord, axis=1))\n",
        "\n",
        "    cloud = []\n",
        "    \n",
        "    for n in range(len(non_zero_coord)):\n",
        "        x = non_zero_coord[n][0]\n",
        "        y = non_zero_coord[n][1]\n",
        "            \n",
        "        components = [0,1]\n",
        "        \n",
        "        # top\n",
        "        if not non_zero_dict[str([x-1, y])]:\n",
        "            components.append(2)\n",
        "        \n",
        "        # bottom\n",
        "        if not non_zero_dict[str([x+1, y])]:\n",
        "            components.append(3)\n",
        "        \n",
        "        # left\n",
        "        if not non_zero_dict[str([x, y-1])]:\n",
        "            components.append(4)\n",
        "        \n",
        "        # right\n",
        "        if not non_zero_dict[str([x, y+1])]:\n",
        "            components.append(5)\n",
        "        \n",
        "        pixel_cloud = np.concatenate(voxel[components])\n",
        "                \n",
        "        # move the voxel to its position\n",
        "        pixel_cloud[:,0] +=x\n",
        "        pixel_cloud[:,1] += y\n",
        "        \n",
        "        cloud.append(pixel_cloud)\n",
        "    \n",
        "    cloud = np.concatenate(cloud)\n",
        "    \n",
        "    # make max range 0-1\n",
        "    xyzmin = np.min(cloud[:,:3], axis=0)\n",
        "    xyzmax = np.max(cloud[:,:3], axis=0)\n",
        "    diff = xyzmax - xyzmin\n",
        "    cloud[:,:3] = ((cloud[:,:3] - xyzmin[np.argmax(diff)]) / diff[np.argmax(diff)])\n",
        "    \n",
        "    # 0 mean\n",
        "    cloud[:,:3] -= np.mean(cloud[:,:3], axis=0)\n",
        "\n",
        "    return cloud"
      ],
      "execution_count": 0,
      "outputs": []
    },
    {
      "cell_type": "code",
      "metadata": {
        "id": "lLrCtnAR9-6C",
        "colab_type": "code",
        "colab": {}
      },
      "source": [
        "MIN_X, MAX_X = (-0.5, 0.5)\n",
        "MIN_Y, MAX_Y = (-0.5, 0.5)\n",
        "MIN_Z, MAX_Z = (-3, 3)\n",
        "\n",
        "N_X = 5\n",
        "N_Y = 5\n",
        "N_Z = 30"
      ],
      "execution_count": 0,
      "outputs": []
    },
    {
      "cell_type": "code",
      "metadata": {
        "id": "bmvF-RdO-BD1",
        "colab_type": "code",
        "colab": {}
      },
      "source": [
        "## VOXELS CREATION\n",
        "# with normals\n",
        "\n",
        "front = np.array(np.meshgrid(np.linspace(MIN_X, MAX_X, N_X),\n",
        "                             np.linspace(MIN_Y, MAX_Y, N_Y),\n",
        "                             MAX_Z )).T.reshape(-1,3) \n",
        "front = np.concatenate((front, [[1,0,0]] * len(front)), axis=1)\n",
        "\n",
        "\n",
        "back = np.array(np.meshgrid(np.linspace(MIN_X, MAX_X, N_X), \n",
        "                            np.linspace(MIN_Y, MAX_Y, N_Y), \n",
        "                            MIN_Z )).T.reshape(-1,3)    \n",
        "back = np.concatenate((back, [[-1,0,0]] * len(back)), axis=1)\n",
        "\n",
        "\n",
        "top = np.array(np.meshgrid(MIN_X,\n",
        "                           np.linspace(MIN_Y, MAX_Y, N_Y), \n",
        "                           np.linspace(MIN_Z, MAX_Z, N_Z))).T.reshape(-1,3)\n",
        "top = np.concatenate((top, [[0,0,1]] * len(top)), axis=1)\n",
        "\n",
        "\n",
        "bottom = np.array(np.meshgrid(MAX_X, \n",
        "                              np.linspace(MIN_Y, MAX_Y, N_Y), \n",
        "                              np.linspace(MIN_Z, MAX_Z, N_Z))).T.reshape(-1,3) \n",
        "bottom = np.concatenate((bottom, [[0,0,-1]] * len(bottom)), axis=1)\n",
        "\n",
        "\n",
        "left = np.array(np.meshgrid(np.linspace(MIN_X, MAX_X, N_X), \n",
        "                            MIN_Y,\n",
        "                            np.linspace(MIN_Z, MAX_Z, N_Z))).T.reshape(-1,3)\n",
        "left = np.concatenate((left, [[0,-1,0]] * len(left)), axis=1)\n",
        "\n",
        "\n",
        "right = np.array(np.meshgrid(np.linspace(MIN_X, MAX_X, N_X), \n",
        "                             MAX_Y, \n",
        "                             np.linspace(MIN_Z, MAX_Z, N_Z))).T.reshape(-1,3)   \n",
        "right = np.concatenate((right, [[0,1,0]] * len(right)), axis=1)\n",
        "\n",
        "\n",
        "voxel = np.array([front, back, top, bottom, left, right])"
      ],
      "execution_count": 0,
      "outputs": []
    },
    {
      "cell_type": "code",
      "metadata": {
        "id": "Qf8wlplg-Fx2",
        "colab_type": "code",
        "colab": {}
      },
      "source": [
        ""
      ],
      "execution_count": 0,
      "outputs": []
    }
  ]
}